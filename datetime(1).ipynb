{
 "cells": [
  {
   "cell_type": "code",
   "execution_count": 1,
   "id": "8f9a0833",
   "metadata": {},
   "outputs": [],
   "source": [
    "import datetime"
   ]
  },
  {
   "cell_type": "code",
   "execution_count": 4,
   "id": "10a40da0",
   "metadata": {},
   "outputs": [
    {
     "data": {
      "text/plain": [
       "datetime.datetime(2012, 6, 12, 0, 0)"
      ]
     },
     "execution_count": 4,
     "metadata": {},
     "output_type": "execute_result"
    }
   ],
   "source": [
    "a=datetime.datetime(2012,6,12)"
   ]
  },
  {
   "cell_type": "code",
   "execution_count": 5,
   "id": "38f7e489",
   "metadata": {},
   "outputs": [
    {
     "name": "stdout",
     "output_type": "stream",
     "text": [
      "2012-06-12 00:00:00\n"
     ]
    }
   ],
   "source": [
    "print(a)"
   ]
  },
  {
   "cell_type": "markdown",
   "id": "cc5350a9",
   "metadata": {},
   "source": [
    "## The date class"
   ]
  },
  {
   "cell_type": "code",
   "execution_count": 6,
   "id": "f1976610",
   "metadata": {},
   "outputs": [],
   "source": [
    "from datetime import date"
   ]
  },
  {
   "cell_type": "code",
   "execution_count": 7,
   "id": "d64e28c9",
   "metadata": {},
   "outputs": [
    {
     "name": "stdout",
     "output_type": "stream",
     "text": [
      "1998-07-19\n"
     ]
    }
   ],
   "source": [
    "mydate= date(year=1998,month=7, day=19)\n",
    "print(mydate)"
   ]
  },
  {
   "cell_type": "code",
   "execution_count": 12,
   "id": "59402181",
   "metadata": {},
   "outputs": [
    {
     "name": "stdout",
     "output_type": "stream",
     "text": [
      "12\n"
     ]
    }
   ],
   "source": [
    "a=date.today().day\n",
    "print(a)"
   ]
  },
  {
   "cell_type": "markdown",
   "id": "74db18df",
   "metadata": {},
   "source": [
    "## Time class"
   ]
  },
  {
   "cell_type": "code",
   "execution_count": 13,
   "id": "5d30e134",
   "metadata": {},
   "outputs": [],
   "source": [
    "from datetime import time"
   ]
  },
  {
   "cell_type": "code",
   "execution_count": 18,
   "id": "1f320f25",
   "metadata": {},
   "outputs": [
    {
     "name": "stdout",
     "output_type": "stream",
     "text": [
      "12:30:45\n"
     ]
    }
   ],
   "source": [
    "my= time(hour=12,minute= 30, second= 45)\n",
    "print(my)"
   ]
  },
  {
   "cell_type": "markdown",
   "id": "4cf491cf",
   "metadata": {},
   "source": [
    "## Datetime class"
   ]
  },
  {
   "cell_type": "code",
   "execution_count": 21,
   "id": "140089ca",
   "metadata": {},
   "outputs": [
    {
     "name": "stdout",
     "output_type": "stream",
     "text": [
      "2021-11-12 20:07:01.790490\n"
     ]
    }
   ],
   "source": [
    "from datetime import datetime\n",
    "today=datetime.now()\n",
    "print(today)ime"
   ]
  },
  {
   "cell_type": "markdown",
   "id": "b1edce0d",
   "metadata": {},
   "source": [
    "## timedelta class"
   ]
  },
  {
   "cell_type": "code",
   "execution_count": 22,
   "id": "2fd9a1a7",
   "metadata": {},
   "outputs": [],
   "source": [
    "from datetime import datetime,timedelta\n",
    "today=datetime.now()\n",
    "m= today+timedelta(days=180)"
   ]
  },
  {
   "cell_type": "code",
   "execution_count": 24,
   "id": "f288aa77",
   "metadata": {},
   "outputs": [
    {
     "name": "stdout",
     "output_type": "stream",
     "text": [
      "2022-05-11 20:10:09.921327\n"
     ]
    }
   ],
   "source": [
    "print(m)"
   ]
  },
  {
   "cell_type": "markdown",
   "id": "a06e145c",
   "metadata": {},
   "source": [
    "## Exercise"
   ]
  },
  {
   "cell_type": "code",
   "execution_count": 32,
   "id": "7b92fff7",
   "metadata": {},
   "outputs": [
    {
     "name": "stdout",
     "output_type": "stream",
     "text": [
      "Enter the day of birth ie 01-31: 21\n",
      "Enter the month of birth ie. 01-12: 05\n",
      "Enter the year of birth: 1998\n",
      "Employee's age is : 23\n"
     ]
    }
   ],
   "source": [
    "#Find age of employee\n",
    "from datetime import datetime,timedelta,date\n",
    "d=int(input('Enter the day of birth ie 01-31: '))\n",
    "m=int(input('Enter the month of birth ie. 01-12: '))\n",
    "y=int(input('Enter the year of birth: '))\n",
    "year_e= datetime.now().year-datetime(year=y,month=m,day=d).year\n",
    "print(f\"Employee's age is : {year_e}\")"
   ]
  },
  {
   "cell_type": "code",
   "execution_count": null,
   "id": "109857d0",
   "metadata": {},
   "outputs": [],
   "source": []
  }
 ],
 "metadata": {
  "kernelspec": {
   "display_name": "Python 3",
   "language": "python",
   "name": "python3"
  },
  "language_info": {
   "codemirror_mode": {
    "name": "ipython",
    "version": 3
   },
   "file_extension": ".py",
   "mimetype": "text/x-python",
   "name": "python",
   "nbconvert_exporter": "python",
   "pygments_lexer": "ipython3",
   "version": "3.8.8"
  }
 },
 "nbformat": 4,
 "nbformat_minor": 5
}
