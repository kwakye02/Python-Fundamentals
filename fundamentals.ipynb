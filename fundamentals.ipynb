{
 "cells": [
  {
   "cell_type": "markdown",
   "id": "7aff3d0e",
   "metadata": {},
   "source": [
    "# FUNCTIONS"
   ]
  },
  {
   "cell_type": "markdown",
   "id": "067a3bd1",
   "metadata": {},
   "source": [
    "* defining a function with parameters"
   ]
  },
  {
   "cell_type": "code",
   "execution_count": 3,
   "id": "22f0ec33",
   "metadata": {},
   "outputs": [],
   "source": [
    "def my_function(a,b):\n",
    "    c = a+b\n",
    "    return c\n",
    "    "
   ]
  },
  {
   "cell_type": "code",
   "execution_count": 4,
   "id": "65809643",
   "metadata": {},
   "outputs": [
    {
     "data": {
      "text/plain": [
       "6"
      ]
     },
     "execution_count": 4,
     "metadata": {},
     "output_type": "execute_result"
    }
   ],
   "source": [
    "my_function(2,4)"
   ]
  },
  {
   "cell_type": "code",
   "execution_count": 5,
   "id": "e789b3a4",
   "metadata": {},
   "outputs": [],
   "source": [
    "def fun(a,b=0):\n",
    "    return a*b"
   ]
  },
  {
   "cell_type": "code",
   "execution_count": 6,
   "id": "ccba836e",
   "metadata": {},
   "outputs": [
    {
     "data": {
      "text/plain": [
       "0"
      ]
     },
     "execution_count": 6,
     "metadata": {},
     "output_type": "execute_result"
    }
   ],
   "source": [
    "fun(2)"
   ]
  },
  {
   "cell_type": "code",
   "execution_count": 7,
   "id": "99bcfbea",
   "metadata": {},
   "outputs": [
    {
     "data": {
      "text/plain": [
       "6"
      ]
     },
     "execution_count": 7,
     "metadata": {},
     "output_type": "execute_result"
    }
   ],
   "source": [
    "fun(2,3)"
   ]
  },
  {
   "cell_type": "markdown",
   "id": "305efd90",
   "metadata": {},
   "source": [
    "* Positional arguement "
   ]
  },
  {
   "cell_type": "code",
   "execution_count": 8,
   "id": "f13b51f0",
   "metadata": {},
   "outputs": [],
   "source": [
    "def function(a,b,c):\n",
    "    return a+b+c"
   ]
  },
  {
   "cell_type": "code",
   "execution_count": 9,
   "id": "08b1febe",
   "metadata": {},
   "outputs": [
    {
     "data": {
      "text/plain": [
       "6"
      ]
     },
     "execution_count": 9,
     "metadata": {},
     "output_type": "execute_result"
    }
   ],
   "source": [
    "function(1,2,3)"
   ]
  },
  {
   "cell_type": "code",
   "execution_count": 10,
   "id": "2dff4687",
   "metadata": {},
   "outputs": [],
   "source": [
    "def function(a=2,b=3,c=4):\n",
    "    return(a*b+c)"
   ]
  },
  {
   "cell_type": "code",
   "execution_count": 11,
   "id": "069f475a",
   "metadata": {},
   "outputs": [
    {
     "data": {
      "text/plain": [
       "19"
      ]
     },
     "execution_count": 11,
     "metadata": {},
     "output_type": "execute_result"
    }
   ],
   "source": [
    "function(5)"
   ]
  },
  {
   "cell_type": "code",
   "execution_count": 13,
   "id": "5e8295ec",
   "metadata": {},
   "outputs": [],
   "source": [
    "def marks(m,s,e):\n",
    "    return m+s+e"
   ]
  },
  {
   "cell_type": "code",
   "execution_count": 14,
   "id": "f5436da2",
   "metadata": {},
   "outputs": [
    {
     "data": {
      "text/plain": [
       "110"
      ]
     },
     "execution_count": 14,
     "metadata": {},
     "output_type": "execute_result"
    }
   ],
   "source": [
    "marks(s=20,m=60,e=30)"
   ]
  },
  {
   "cell_type": "markdown",
   "id": "e5c6f762",
   "metadata": {},
   "source": [
    "# packages and modules"
   ]
  },
  {
   "cell_type": "markdown",
   "id": "6ba54a9a",
   "metadata": {},
   "source": [
    "* a module is a file that contains python code"
   ]
  },
  {
   "cell_type": "code",
   "execution_count": 18,
   "id": "4a54cf4a",
   "metadata": {},
   "outputs": [],
   "source": [
    "import calculation as calc"
   ]
  },
  {
   "cell_type": "code",
   "execution_count": 19,
   "id": "9a7798dd",
   "metadata": {},
   "outputs": [
    {
     "data": {
      "text/plain": [
       "-2"
      ]
     },
     "execution_count": 19,
     "metadata": {},
     "output_type": "execute_result"
    }
   ],
   "source": [
    "calc.sub(2,4)"
   ]
  },
  {
   "cell_type": "code",
   "execution_count": 20,
   "id": "7a9ee52f",
   "metadata": {},
   "outputs": [
    {
     "data": {
      "text/plain": [
       "19"
      ]
     },
     "execution_count": 20,
     "metadata": {},
     "output_type": "execute_result"
    }
   ],
   "source": [
    "calc.add(9,10)"
   ]
  },
  {
   "cell_type": "code",
   "execution_count": 23,
   "id": "c06e2b41",
   "metadata": {},
   "outputs": [],
   "source": [
    "name = 'Jaden'\n",
    "age =6"
   ]
  },
  {
   "cell_type": "code",
   "execution_count": 24,
   "id": "233ddcde",
   "metadata": {},
   "outputs": [
    {
     "name": "stdout",
     "output_type": "stream",
     "text": [
      "my name is Jaden. I am 6 years old.\n"
     ]
    }
   ],
   "source": [
    "print(f'my name is {name}. I am {age} years old.')"
   ]
  },
  {
   "cell_type": "code",
   "execution_count": null,
   "id": "e2ecfc4c",
   "metadata": {},
   "outputs": [],
   "source": []
  }
 ],
 "metadata": {
  "kernelspec": {
   "display_name": "Python 3",
   "language": "python",
   "name": "python3"
  },
  "language_info": {
   "codemirror_mode": {
    "name": "ipython",
    "version": 3
   },
   "file_extension": ".py",
   "mimetype": "text/x-python",
   "name": "python",
   "nbconvert_exporter": "python",
   "pygments_lexer": "ipython3",
   "version": "3.8.8"
  }
 },
 "nbformat": 4,
 "nbformat_minor": 5
}
