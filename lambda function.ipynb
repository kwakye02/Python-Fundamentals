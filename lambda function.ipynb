{
 "cells": [
  {
   "cell_type": "markdown",
   "id": "0c3bc86c",
   "metadata": {},
   "source": [
    "## lambda function"
   ]
  },
  {
   "cell_type": "code",
   "execution_count": 1,
   "id": "1ba2c3a7",
   "metadata": {},
   "outputs": [],
   "source": [
    "x= lambda a: a*a"
   ]
  },
  {
   "cell_type": "code",
   "execution_count": 2,
   "id": "286e1553",
   "metadata": {},
   "outputs": [
    {
     "data": {
      "text/plain": [
       "25"
      ]
     },
     "execution_count": 2,
     "metadata": {},
     "output_type": "execute_result"
    }
   ],
   "source": [
    "x(5)"
   ]
  },
  {
   "cell_type": "code",
   "execution_count": 3,
   "id": "165d4975",
   "metadata": {},
   "outputs": [],
   "source": [
    "x = lambda a,b: a+b"
   ]
  },
  {
   "cell_type": "code",
   "execution_count": 4,
   "id": "384c9bb9",
   "metadata": {},
   "outputs": [
    {
     "data": {
      "text/plain": [
       "3"
      ]
     },
     "execution_count": 4,
     "metadata": {},
     "output_type": "execute_result"
    }
   ],
   "source": [
    "x(1,2)"
   ]
  },
  {
   "cell_type": "markdown",
   "id": "4fb94828",
   "metadata": {},
   "source": [
    "## filter function"
   ]
  },
  {
   "cell_type": "code",
   "execution_count": 15,
   "id": "f85d9972",
   "metadata": {},
   "outputs": [],
   "source": [
    "score =[2,30,40,53,60]\n",
    "\n",
    "\n",
    "\n"
   ]
  },
  {
   "cell_type": "code",
   "execution_count": 16,
   "id": "72ea48f7",
   "metadata": {},
   "outputs": [],
   "source": [
    "def score_check(s):\n",
    "    if s>50:\n",
    "        return True\n",
    "    else:\n",
    "        return False"
   ]
  },
  {
   "cell_type": "code",
   "execution_count": 17,
   "id": "1d38b483",
   "metadata": {},
   "outputs": [
    {
     "name": "stdout",
     "output_type": "stream",
     "text": [
      "53\n",
      "60\n"
     ]
    }
   ],
   "source": [
    "student_passed =filter(score_check,score)\n",
    "for i in student_passed:\n",
    "    print(i)"
   ]
  },
  {
   "cell_type": "markdown",
   "id": "0252ef7a",
   "metadata": {},
   "source": [
    "## map function\n",
    "* map(function,iterable)\n",
    "* the list function is used to list the items"
   ]
  },
  {
   "cell_type": "code",
   "execution_count": 22,
   "id": "cc21a9ed",
   "metadata": {},
   "outputs": [],
   "source": [
    "def percent(li):\n",
    "    ans=(li*100)/80\n",
    "    return ans"
   ]
  },
  {
   "cell_type": "code",
   "execution_count": 23,
   "id": "58190505",
   "metadata": {},
   "outputs": [],
   "source": [
    "mapped=map(percent,score)"
   ]
  },
  {
   "cell_type": "code",
   "execution_count": 24,
   "id": "2b668b39",
   "metadata": {},
   "outputs": [
    {
     "name": "stdout",
     "output_type": "stream",
     "text": [
      "[2.5, 37.5, 50.0, 66.25, 75.0]\n"
     ]
    }
   ],
   "source": [
    "print(list(mapped))"
   ]
  },
  {
   "cell_type": "markdown",
   "id": "2b314f1f",
   "metadata": {},
   "source": [
    "## zip function\n",
    "* zip(item1, item2)\n",
    "* the star operator is used inside the zip function to unzip the values"
   ]
  },
  {
   "cell_type": "code",
   "execution_count": 25,
   "id": "1bd89aeb",
   "metadata": {},
   "outputs": [],
   "source": [
    "name=['george','joel','Asare','Alex','Ben']"
   ]
  },
  {
   "cell_type": "code",
   "execution_count": 26,
   "id": "3e01ddbd",
   "metadata": {},
   "outputs": [],
   "source": [
    "zipped_list= zip(name,score)\n",
    "zipped_list =list(zipped_list)"
   ]
  },
  {
   "cell_type": "code",
   "execution_count": 27,
   "id": "37914308",
   "metadata": {},
   "outputs": [
    {
     "data": {
      "text/plain": [
       "[('george', 2), ('joel', 30), ('Asare', 40), ('Alex', 53), ('Ben', 60)]"
      ]
     },
     "execution_count": 27,
     "metadata": {},
     "output_type": "execute_result"
    }
   ],
   "source": [
    "zipped_list"
   ]
  },
  {
   "cell_type": "code",
   "execution_count": 28,
   "id": "9c3c29ef",
   "metadata": {},
   "outputs": [],
   "source": [
    "names, scores = zip(*zipped_list)\n",
    "names=list(names)\n",
    "scores=list(scores)"
   ]
  },
  {
   "cell_type": "code",
   "execution_count": 29,
   "id": "517269d8",
   "metadata": {},
   "outputs": [
    {
     "data": {
      "text/plain": [
       "['george', 'joel', 'Asare', 'Alex', 'Ben']"
      ]
     },
     "execution_count": 29,
     "metadata": {},
     "output_type": "execute_result"
    }
   ],
   "source": [
    "names"
   ]
  },
  {
   "cell_type": "code",
   "execution_count": 30,
   "id": "be6ea9bf",
   "metadata": {},
   "outputs": [
    {
     "data": {
      "text/plain": [
       "[2, 30, 40, 53, 60]"
      ]
     },
     "execution_count": 30,
     "metadata": {},
     "output_type": "execute_result"
    }
   ],
   "source": [
    "scores"
   ]
  },
  {
   "cell_type": "markdown",
   "id": "015abbe2",
   "metadata": {},
   "source": [
    "## set and dictionary comprehension\n",
    "### list comprehension\n",
    "* variable = [operation or output ,expression]"
   ]
  },
  {
   "cell_type": "code",
   "execution_count": 37,
   "id": "bb179eca",
   "metadata": {},
   "outputs": [
    {
     "data": {
      "text/plain": [
       "[4, 9, 16, 25, 36]"
      ]
     },
     "execution_count": 37,
     "metadata": {},
     "output_type": "execute_result"
    }
   ],
   "source": [
    "my_list =[2,3,4,5,6]\n",
    "squared_list =[val**2 for val in my_list]\n",
    "squared_list"
   ]
  },
  {
   "cell_type": "markdown",
   "id": "ecc371c6",
   "metadata": {},
   "source": [
    "## set comprehension"
   ]
  },
  {
   "cell_type": "code",
   "execution_count": 40,
   "id": "048d71e7",
   "metadata": {},
   "outputs": [],
   "source": [
    "numbers = {x for x in range(1,10)}"
   ]
  },
  {
   "cell_type": "code",
   "execution_count": 41,
   "id": "ad4f2f2f",
   "metadata": {},
   "outputs": [
    {
     "data": {
      "text/plain": [
       "{1, 2, 3, 4, 5, 6, 7, 8, 9}"
      ]
     },
     "execution_count": 41,
     "metadata": {},
     "output_type": "execute_result"
    }
   ],
   "source": [
    "numbers"
   ]
  },
  {
   "cell_type": "markdown",
   "id": "533c4ce2",
   "metadata": {},
   "source": [
    "## dictionary comprehension"
   ]
  },
  {
   "cell_type": "code",
   "execution_count": 42,
   "id": "7a4982fe",
   "metadata": {},
   "outputs": [],
   "source": [
    "d = {num:num*num for num in range(1,10)}"
   ]
  },
  {
   "cell_type": "code",
   "execution_count": 43,
   "id": "608aae65",
   "metadata": {},
   "outputs": [
    {
     "data": {
      "text/plain": [
       "{1: 1, 2: 4, 3: 9, 4: 16, 5: 25, 6: 36, 7: 49, 8: 64, 9: 81}"
      ]
     },
     "execution_count": 43,
     "metadata": {},
     "output_type": "execute_result"
    }
   ],
   "source": [
    "d"
   ]
  },
  {
   "cell_type": "markdown",
   "id": "740f9985",
   "metadata": {},
   "source": [
    "#                            Exercise"
   ]
  },
  {
   "cell_type": "code",
   "execution_count": 47,
   "id": "7aef7d86",
   "metadata": {},
   "outputs": [],
   "source": [
    "dic ={'language':50,'Math':80,'Science':60,'Social':30,'computer':94}"
   ]
  },
  {
   "cell_type": "code",
   "execution_count": 51,
   "id": "37bc9e4e",
   "metadata": {},
   "outputs": [],
   "source": [
    "x= lambda x: x.sort()"
   ]
  },
  {
   "cell_type": "code",
   "execution_count": 52,
   "id": "fd865e55",
   "metadata": {},
   "outputs": [
    {
     "ename": "AttributeError",
     "evalue": "'dict' object has no attribute 'sort'",
     "output_type": "error",
     "traceback": [
      "\u001b[1;31m---------------------------------------------------------------------------\u001b[0m",
      "\u001b[1;31mAttributeError\u001b[0m                            Traceback (most recent call last)",
      "\u001b[1;32m<ipython-input-52-4a753ef50616>\u001b[0m in \u001b[0;36m<module>\u001b[1;34m\u001b[0m\n\u001b[1;32m----> 1\u001b[1;33m \u001b[0mx\u001b[0m\u001b[1;33m(\u001b[0m\u001b[0mdic\u001b[0m\u001b[1;33m)\u001b[0m\u001b[1;33m\u001b[0m\u001b[1;33m\u001b[0m\u001b[0m\n\u001b[0m",
      "\u001b[1;32m<ipython-input-51-7a079c1a1902>\u001b[0m in \u001b[0;36m<lambda>\u001b[1;34m(x)\u001b[0m\n\u001b[1;32m----> 1\u001b[1;33m \u001b[0mx\u001b[0m\u001b[1;33m=\u001b[0m \u001b[1;32mlambda\u001b[0m \u001b[0mx\u001b[0m\u001b[1;33m:\u001b[0m \u001b[0mx\u001b[0m\u001b[1;33m.\u001b[0m\u001b[0msort\u001b[0m\u001b[1;33m(\u001b[0m\u001b[1;33m)\u001b[0m\u001b[1;33m\u001b[0m\u001b[1;33m\u001b[0m\u001b[0m\n\u001b[0m",
      "\u001b[1;31mAttributeError\u001b[0m: 'dict' object has no attribute 'sort'"
     ]
    }
   ],
   "source": [
    "x(dic)"
   ]
  },
  {
   "cell_type": "code",
   "execution_count": null,
   "id": "23ad8d3f",
   "metadata": {},
   "outputs": [],
   "source": []
  }
 ],
 "metadata": {
  "kernelspec": {
   "display_name": "Python 3",
   "language": "python",
   "name": "python3"
  },
  "language_info": {
   "codemirror_mode": {
    "name": "ipython",
    "version": 3
   },
   "file_extension": ".py",
   "mimetype": "text/x-python",
   "name": "python",
   "nbconvert_exporter": "python",
   "pygments_lexer": "ipython3",
   "version": "3.8.8"
  }
 },
 "nbformat": 4,
 "nbformat_minor": 5
}
