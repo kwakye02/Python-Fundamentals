{
 "cells": [
  {
   "cell_type": "markdown",
   "id": "2a55ce6e",
   "metadata": {},
   "source": [
    "### Restaurant: Make a class called Restaurant. The __init__() method for Restaurant should store two attributes: a restaurant_name and a cuisine_type. Make a method called describe_restaurant() that prints these two pieces of information, and a method called open_restaurant() that prints a message indicating that the restaurant is open. Make an instance called restaurant from your class. Print the two attributes individually, and then call both methods."
   ]
  },
  {
   "cell_type": "code",
   "execution_count": 10,
   "id": "42be8d4d",
   "metadata": {},
   "outputs": [],
   "source": [
    "class Restaurant:\n",
    "    def __init__(self,restaurant_name,cuisine_type):\n",
    "        self.restaurant_name=restaurant_name\n",
    "        self.cuisine_type= cuisine_type\n",
    "    def describe_restaurant(self):\n",
    "        print(f'The restaurant name is {self.restaurant_name}.{self.cuisine_type} is available')\n",
    "    def open_restaurant(self):\n",
    "        print(f'{self.restaurant_name} restaurant is opened')"
   ]
  },
  {
   "cell_type": "code",
   "execution_count": 16,
   "id": "32416a7d",
   "metadata": {},
   "outputs": [],
   "source": [
    "restaurant1 = Restaurant('Cedar','Korean food')\n",
    "restaurant2 = Restaurant('mendy','japanese food')\n",
    "restaurant3 = Restaurant('jay','chinese cuisine')"
   ]
  },
  {
   "cell_type": "code",
   "execution_count": 19,
   "id": "2d724b91",
   "metadata": {},
   "outputs": [
    {
     "name": "stdout",
     "output_type": "stream",
     "text": [
      "The restaurant name is Cedar.Korean food is available\n",
      "\n",
      "\n",
      "The restaurant name is mendy.japanese food is available\n",
      "\n",
      "\n",
      "The restaurant name is jay.chinese cuisine is available\n"
     ]
    }
   ],
   "source": [
    "restaurant1.describe_restaurant()\n",
    "print('\\n')\n",
    "restaurant2.describe_restaurant()\n",
    "print('\\n')\n",
    "restaurant3.describe_restaurant()"
   ]
  },
  {
   "cell_type": "markdown",
   "id": "e38b340a",
   "metadata": {},
   "source": [
    "#### Make a class called User. Create two attributes called first_name andlast_name, and then create several other attributes that are typically stored in a user profile. Make a method called describe_user() that prints a summary of the user’s information. Make another method called greet_user() that prints a personalized greeting to the user. Create several instances representing different users, and call both methods for each user.\n"
   ]
  },
  {
   "cell_type": "code",
   "execution_count": 38,
   "id": "e8c5d6b7",
   "metadata": {},
   "outputs": [],
   "source": [
    "class User:\n",
    "    def __init__(self,first_name,last_name,_age):\n",
    "        self.first_name= first_name\n",
    "        self.last_name= last_name\n",
    "        self._age= _age\n",
    "    def describe_user(self):\n",
    "        print(f\"User's information: \\n name: {self.first_name} {self.last_name} \\n  age:{self._age} years old\")\n",
    "    def greet_user(self):\n",
    "        print(f'Hello {self.first_name}')"
   ]
  },
  {
   "cell_type": "code",
   "execution_count": 39,
   "id": "642e6ff5",
   "metadata": {},
   "outputs": [
    {
     "name": "stdout",
     "output_type": "stream",
     "text": [
      "Hello George\n",
      "User's information: \n",
      " name: George Kwakye \n",
      "  age:23 years old\n"
     ]
    }
   ],
   "source": [
    "user1= User('George','Kwakye',23)\n",
    "user1.greet_user()\n",
    "user1.describe_user()"
   ]
  },
  {
   "cell_type": "code",
   "execution_count": 40,
   "id": "40db4bc8",
   "metadata": {},
   "outputs": [
    {
     "name": "stdout",
     "output_type": "stream",
     "text": [
      "User's information: \n",
      " name: George Kwakye \n",
      "  age:23 years old\n"
     ]
    }
   ],
   "source": [
    "user1.age=25\n",
    "user1.describe_user()"
   ]
  },
  {
   "cell_type": "code",
   "execution_count": null,
   "id": "89b47c83",
   "metadata": {},
   "outputs": [],
   "source": []
  }
 ],
 "metadata": {
  "kernelspec": {
   "display_name": "Python 3",
   "language": "python",
   "name": "python3"
  },
  "language_info": {
   "codemirror_mode": {
    "name": "ipython",
    "version": 3
   },
   "file_extension": ".py",
   "mimetype": "text/x-python",
   "name": "python",
   "nbconvert_exporter": "python",
   "pygments_lexer": "ipython3",
   "version": "3.8.8"
  }
 },
 "nbformat": 4,
 "nbformat_minor": 5
}
